{
 "cells": [
  {
   "cell_type": "markdown",
   "metadata": {},
   "source": [
    "# DDW TASK 2"
   ]
  },
  {
   "cell_type": "markdown",
   "metadata": {},
   "source": [
    "## Contribution\n",
    "- Jia Hui - Brainstormed on features, researching, model experimenting\n",
    "- Pei Xuan - Brainstormed on features, researching, data cleaning\n",
    "- Min Khant - Brainstormed on features, researching"
   ]
  },
  {
   "cell_type": "markdown",
   "metadata": {},
   "source": [
    "## Problem Statement\n",
    "\n",
    "We aim to predict the number of ICU admissions using:\n",
    "\n",
    "1. Number of days from the introduction of Delta variant\n",
    "2. Measurement of visitors to transit areas"
   ]
  },
  {
   "cell_type": "markdown",
   "metadata": {},
   "source": [
    "## Link to Data Sources\n",
    "### \n",
    "*Number of ICU Admissions in United Kingdom*\n",
    "- [ICU Admissions](https://coronavirus.data.gov.uk/details/healthcare)\n",
    "\n",
    "*Change in Visitors to Transit Areas*\n",
    "- [Measurement of visitors](https://ourworldindata.org/grapher/changes-visitors-covid?country=~GBR)"
   ]
  },
  {
   "cell_type": "markdown",
   "metadata": {},
   "source": [
    "## Cleaning of Data\n",
    "*Took data from 1/6/2021 to 8/11/2021*"
   ]
  },
  {
   "cell_type": "markdown",
   "metadata": {},
   "source": [
    "## All possible models\n",
    "1. **[Linear Regression](#linear)**\n",
    "2. **[Polynomial Regression](#poly)**\n",
    "1. **[Mutiple Regression](#multi)**"
   ]
  },
  {
   "cell_type": "markdown",
   "metadata": {},
   "source": [
    "## Required Imports"
   ]
  },
  {
   "cell_type": "code",
   "execution_count": 1288,
   "metadata": {},
   "outputs": [],
   "source": [
    "import numpy as np\n",
    "import pandas as pd\n",
    "import matplotlib.pyplot as plt\n",
    "import seaborn as sns\n",
    "import math"
   ]
  },
  {
   "cell_type": "markdown",
   "metadata": {},
   "source": [
    "## Functions"
   ]
  },
  {
   "cell_type": "code",
   "execution_count": 1289,
   "metadata": {},
   "outputs": [],
   "source": [
    "def normalize_z(df):\n",
    "    # mean with axis 0 is summing the rows\n",
    "    return (df - df.mean(axis=0)) / df.std(axis=0) \n",
    "\n",
    "def get_features_targets(df, feature_names, target_names):\n",
    "    df_feature = df[feature_names]\n",
    "    df_target = df[target_names]\n",
    "    return df_feature, df_target\n",
    "\n",
    "def prepare_feature(df_feature):\n",
    "    cols = len(df_feature.columns) \n",
    "    feature = df_feature.to_numpy()\n",
    "    number_of_samples = feature.shape[0]\n",
    "    return np.concatenate((np.ones((number_of_samples,1)), feature), axis=1)\n",
    "\n",
    "def prepare_target(df_target):\n",
    "    # to_numpy() removes the first column (header column)\n",
    "    return df_target.to_numpy()\n",
    "\n",
    "def predict(df_feature, beta):\n",
    "    X = prepare_feature(normalize_z(df_feature))\n",
    "    return predict_norm(X, beta)\n",
    "\n",
    "def predict_norm(X, beta):\n",
    "    return np.matmul(X,beta)\n",
    "\n",
    "def split_data(df_feature, df_target, random_state=100, test_size=0.3):\n",
    "    # get the indexes of the feature \n",
    "    indexes = df_feature.index\n",
    "    # seed the random value \n",
    "    if random_state != None:\n",
    "        np.random.seed(random_state)\n",
    "    # get the number of test samples to extract \n",
    "    k = int(test_size * len(indexes))\n",
    "    # get the indexes from the features and target to select as test set \n",
    "    test_index = np.random.choice(indexes, k, replace=False)\n",
    "    indexes = set(indexes)\n",
    "    test_index = set(test_index)\n",
    "    train_index = indexes - test_index\n",
    "    df_feature_train = df_feature.loc[train_index, :]\n",
    "    df_feature_test = df_feature.loc[test_index, :]\n",
    "    df_target_train = df_target.loc[train_index, :]\n",
    "    df_target_test = df_target.loc[test_index, :]\n",
    "    return df_feature_train, df_feature_test, df_target_train, df_target_test\n",
    "  \n",
    "  \n",
    "def r2_score(y, ypred):\n",
    "    sum_res = np.sum((y - ypred)**2)\n",
    "    error_tot = y - np.mean(y)\n",
    "    sum_tot = np.sum(error_tot**2)\n",
    "    return 1-(sum_res/sum_tot)\n",
    "\n",
    "def adjusted_r2_score(y, ypred, p):\n",
    "    r2 = r2_score(y, ypred)\n",
    "    N = y.shape[0]\n",
    "    return 1-((1-r2)*(N-1)/(N-p-1))\n",
    "\n",
    "def mean_squared_error(target, pred):\n",
    "    n = target.shape[0]\n",
    "    return 1/n * np.sum((target-pred)**2)\n",
    "\n",
    "def compute_cost(X, y, beta):\n",
    "    J = 0\n",
    "    no_of_samples = X.shape[0]\n",
    "    error = np.matmul(X, beta) - y\n",
    "    error_sq = np.matmul(error.T, error) # .T is transpose\n",
    "    J = 1/(2*no_of_samples) * error_sq\n",
    "    return J[0][0]\n",
    "\n",
    "def gradient_descent(X, y, beta, alpha, num_iters):\n",
    "    number_of_samples = X.shape[0]\n",
    "    J_storage = []\n",
    "    for i in range(num_iters):\n",
    "        # STEP 2: compute the derivate with current parameters\n",
    "        derivative_error = (1/(number_of_samples)) * np.matmul(X.T, (np.matmul(X, beta) - y))\n",
    "        # STEP 3: update the parameters\n",
    "        beta = beta - alpha *  derivative_error\n",
    "        # compute cost at every iteration of beta\n",
    "        J_storage.append(compute_cost(X, y, beta))\n",
    "    return beta, J_storage\n",
    "\n",
    "def transform_features_power(df_feature, colname, colname_transformed, value):\n",
    "    df_feature[colname_transformed] = df_feature[colname]**value\n",
    "    return df_feature\n",
    "\n",
    "\n",
    "def transform_features(df_feature, colname, colname_transformed, value):\n",
    "    df_feature[colname_transformed] = df_feature[colname]**value\n",
    "    df_feature[colname_transformed] = df_feature[colname]/np.sqrt(1+df_feature[colname_transformed])\n",
    "    return df_feature\n",
    "\n",
    "def add_feature(df_feature, colname_transformed, value):\n",
    "    df_feature[colname_transformed] = value\n",
    "    return df_feature"
   ]
  },
  {
   "cell_type": "markdown",
   "metadata": {},
   "source": [
    "## Reading data from CSV"
   ]
  },
  {
   "cell_type": "code",
   "execution_count": 1290,
   "metadata": {},
   "outputs": [
    {
     "data": {
      "text/plain": [
       "<matplotlib.collections.PathCollection at 0x1c2ac161280>"
      ]
     },
     "execution_count": 1290,
     "metadata": {},
     "output_type": "execute_result"
    },
    {
     "data": {
      "image/png": "[encoded data removed]",
      "text/plain": [
       "<Figure size 432x288 with 1 Axes>"
      ]
     },
     "metadata": {},
     "output_type": "display_data"
    }
   ],
   "source": [
    "import matplotlib.dates as mdates\n",
    "df = pd.read_csv(\"DDW_dataset1.csv\")\n",
    "\n",
    "df_feature_delta, df_target = get_features_targets(df,[\"Delta\"],[\"ICU admissions\"])\n",
    "plt.scatter(df_feature_delta, df_target)"
   ]
  },
  {
   "cell_type": "code",
   "execution_count": 1291,
   "metadata": {},
   "outputs": [
    {
     "data": {
      "text/plain": [
       "<matplotlib.collections.PathCollection at 0x1c2ac1c45e0>"
      ]
     },
     "execution_count": 1291,
     "metadata": {},
     "output_type": "execute_result"
    },
    {
     "data": {
      "image/png": "[encoded data removed]",
      "text/plain": [
       "<Figure size 432x288 with 1 Axes>"
      ]
     },
     "metadata": {},
     "output_type": "display_data"
    }
   ],
   "source": [
    "df_feature_transit, df_target = get_features_targets(df,[\"Transit\"],[\"ICU admissions\"])\n",
    "plt.scatter(df_feature_transit, df_target)"
   ]
  },
  {
   "cell_type": "markdown",
   "metadata": {},
   "source": [
    "## **Linear Regression**\n",
    "<a id=\"linear\"></a>"
   ]
  },
  {
   "cell_type": "markdown",
   "metadata": {},
   "source": [
    "### **Delta**"
   ]
  },
  {
   "cell_type": "code",
   "execution_count": 1292,
   "metadata": {},
   "outputs": [
    {
     "name": "stdout",
     "output_type": "stream",
     "text": [
      "[[608.34541567]\n",
      " [318.79725651]]\n"
     ]
    },
    {
     "data": {
      "text/plain": [
       "<matplotlib.collections.PathCollection at 0x1c2ac22d8b0>"
      ]
     },
     "execution_count": 1292,
     "metadata": {},
     "output_type": "execute_result"
    },
    {
     "data": {
      "image/png": "[encoded data removed]",
      "text/plain": [
       "<Figure size 432x288 with 1 Axes>"
      ]
     },
     "metadata": {},
     "output_type": "display_data"
    }
   ],
   "source": [
    "# Delta\n",
    "df_features_train, df_features_test, df_target_train, df_target_test = split_data(df_feature_delta, df_target)\n",
    "\n",
    "# normalize features\n",
    "df_features_train_z = normalize_z(df_features_train)\n",
    "\n",
    "# change to numpy array and append column for feature\n",
    "X = prepare_feature(df_features_train_z)\n",
    "target = prepare_target(df_target_train)\n",
    "\n",
    "iterations = 1500\n",
    "alpha = 0.01\n",
    "beta = np.zeros((2,1))\n",
    "\n",
    "# call gradient_descent() function\n",
    "beta, J_storage = gradient_descent(X, target, beta, alpha, iterations)\n",
    "\n",
    "print(beta)\n",
    "pred = predict(df_features_test, beta)\n",
    "\n",
    "sns.set()\n",
    "plt.scatter(df_features_test[\"Delta\"], df_target_test)\n",
    "plt.scatter(df_features_test[\"Delta\"], pred)"
   ]
  },
  {
   "cell_type": "code",
   "execution_count": 1293,
   "metadata": {},
   "outputs": [
    {
     "name": "stdout",
     "output_type": "stream",
     "text": [
      "0.5530687395575833 r2\n",
      "0.5365157299115679 Adjusted\n",
      "44063.36261961669 mean squared error\n"
     ]
    }
   ],
   "source": [
    "# TESTS\n",
    "target = prepare_target(df_target_test)\n",
    "r2 = r2_score(target, pred)\n",
    "print(r2, \"r2\")\n",
    "\n",
    "a_r2 = adjusted_r2_score(target, pred, 2)\n",
    "print(a_r2, \"Adjusted\")\n",
    "\n",
    "mse = mean_squared_error(target, pred)\n",
    "print(mse, \"mean squared error\")\n"
   ]
  },
  {
   "cell_type": "markdown",
   "metadata": {},
   "source": [
    "### **Transit**"
   ]
  },
  {
   "cell_type": "code",
   "execution_count": 1294,
   "metadata": {},
   "outputs": [
    {
     "name": "stdout",
     "output_type": "stream",
     "text": [
      "[[608.34541567]\n",
      " [290.01821826]]\n"
     ]
    },
    {
     "data": {
      "text/plain": [
       "<matplotlib.collections.PathCollection at 0x1c2ac28ff70>"
      ]
     },
     "execution_count": 1294,
     "metadata": {},
     "output_type": "execute_result"
    },
    {
     "data": {
      "image/png": "[encoded data removed]",
      "text/plain": [
       "<Figure size 432x288 with 1 Axes>"
      ]
     },
     "metadata": {},
     "output_type": "display_data"
    }
   ],
   "source": [
    "# Transit\n",
    "df_features_train, df_features_test, df_target_train, df_target_test = split_data(df_feature_transit, df_target)\n",
    "\n",
    "# normalize features\n",
    "df_features_train_z = normalize_z(df_features_train)\n",
    "\n",
    "# change to numpy array and append column for feature\n",
    "X = prepare_feature(df_features_train_z)\n",
    "target = prepare_target(df_target_train)\n",
    "\n",
    "iterations = 1500\n",
    "alpha = 0.01\n",
    "beta = np.zeros((2,1))\n",
    "\n",
    "# call gradient_descent() function\n",
    "beta, J_storage = gradient_descent(X, target, beta, alpha, iterations)\n",
    "\n",
    "print(beta)\n",
    "pred = predict(df_features_test, beta)\n",
    "\n",
    "sns.set()\n",
    "plt.scatter(df_features_test[\"Transit\"], df_target_test)\n",
    "plt.scatter(df_features_test[\"Transit\"], pred)"
   ]
  },
  {
   "cell_type": "code",
   "execution_count": 1295,
   "metadata": {},
   "outputs": [
    {
     "name": "stdout",
     "output_type": "stream",
     "text": [
      "0.3045574736567287 r2\n",
      "0.2788003430514223 Adjusted\n",
      "68564.31610765355 mean squared error\n"
     ]
    }
   ],
   "source": [
    "# TESTS\n",
    "target = prepare_target(df_target_test)\n",
    "r2 = r2_score(target, pred)\n",
    "print(r2, \"r2\")\n",
    "\n",
    "a_r2 = adjusted_r2_score(target, pred, 2)\n",
    "print(a_r2, \"Adjusted\")\n",
    "\n",
    "mse = mean_squared_error(target, pred)\n",
    "print(mse, \"mean squared error\")\n"
   ]
  },
  {
   "cell_type": "markdown",
   "metadata": {},
   "source": [
    "## **Polynomial Linear Regression**\n",
    "<a id=\"poly\"></a>"
   ]
  },
  {
   "cell_type": "markdown",
   "metadata": {},
   "source": [
    "### **Delta**"
   ]
  },
  {
   "cell_type": "code",
   "execution_count": 1296,
   "metadata": {},
   "outputs": [
    {
     "name": "stderr",
     "output_type": "stream",
     "text": [
      "C:\\Users\\jiahu\\AppData\\Local\\Temp/ipykernel_21756/1404005385.py:83: SettingWithCopyWarning: \n",
      "A value is trying to be set on a copy of a slice from a DataFrame.\n",
      "Try using .loc[row_indexer,col_indexer] = value instead\n",
      "\n",
      "See the caveats in the documentation: https://pandas.pydata.org/pandas-docs/stable/user_guide/indexing.html#returning-a-view-versus-a-copy\n",
      "  df_feature[colname_transformed] = df_feature[colname]**value\n"
     ]
    },
    {
     "data": {
      "text/plain": [
       "<matplotlib.collections.PathCollection at 0x1c2ac2f8f40>"
      ]
     },
     "execution_count": 1296,
     "metadata": {},
     "output_type": "execute_result"
    },
    {
     "data": {
      "image/png": "[encoded data removed]",
      "text/plain": [
       "<Figure size 432x288 with 1 Axes>"
      ]
     },
     "metadata": {},
     "output_type": "display_data"
    }
   ],
   "source": [
    "df_features_second = transform_features_power(df_feature_delta, 'Delta', 'Delta^1', 1.7)\n",
    "df_features_second = transform_features_power(df_feature_delta, 'Delta', 'Delta^5', 5.5)\n",
    "df_features_second = transform_features_power(df_feature_delta, 'Delta', 'Delta^6', 6)\n",
    "\n",
    "\n",
    "# print(df_features_second)\n",
    "\n",
    "df_features_train, df_features_test, df_target_train, df_target_test = split_data(df_features_second, df_target)\n",
    "\n",
    "# normalize features\n",
    "df_features_train_z = normalize_z(df_features_train)\n",
    "\n",
    "# change to numpy array and append column for feature\n",
    "X = prepare_feature(df_features_train_z)\n",
    "target = prepare_target(df_target_train)\n",
    "\n",
    "iterations = 1500\n",
    "alpha = 0.01\n",
    "beta = np.zeros((5,1))\n",
    "\n",
    "# call gradient_descent() function\n",
    "beta, J_storage = gradient_descent(X, target, beta, alpha, iterations)\n",
    "\n",
    "# print(beta)\n",
    "pred = predict(df_features_test, beta)\n",
    "\n",
    "sns.set()\n",
    "\n",
    "plt.scatter(df_features_test[\"Delta^5\"], df_target_test)\n",
    "plt.scatter(df_features_test[\"Delta^5\"], pred)\n"
   ]
  },
  {
   "cell_type": "code",
   "execution_count": 1297,
   "metadata": {},
   "outputs": [
    {
     "name": "stdout",
     "output_type": "stream",
     "text": [
      "0.6450098293454724 Adjusted\n",
      "32498.89156908733 mean squared error\n"
     ]
    }
   ],
   "source": [
    "# TESTS\n",
    "target = prepare_target(df_target_test)\n",
    "\n",
    "a_r2 = adjusted_r2_score(target, pred, 4)\n",
    "print(a_r2, \"Adjusted\")\n",
    "\n",
    "mse = mean_squared_error(target, pred)\n",
    "print(mse, \"mean squared error\")\n",
    "\n",
    "# 0.622 , 2, 3.7, 4, 5\n",
    "# 0.633 , 2, 3.7, 4.8 ,6\n",
    "# 0.642 2, 5.5, 6\n",
    "# 0.645 1.7, 5.5, 6"
   ]
  },
  {
   "cell_type": "markdown",
   "metadata": {},
   "source": [
    "### **Transit**"
   ]
  },
  {
   "cell_type": "code",
   "execution_count": 1298,
   "metadata": {},
   "outputs": [
    {
     "name": "stderr",
     "output_type": "stream",
     "text": [
      "C:\\Users\\jiahu\\AppData\\Local\\Temp/ipykernel_21756/1404005385.py:83: SettingWithCopyWarning: \n",
      "A value is trying to be set on a copy of a slice from a DataFrame.\n",
      "Try using .loc[row_indexer,col_indexer] = value instead\n",
      "\n",
      "See the caveats in the documentation: https://pandas.pydata.org/pandas-docs/stable/user_guide/indexing.html#returning-a-view-versus-a-copy\n",
      "  df_feature[colname_transformed] = df_feature[colname]**value\n"
     ]
    },
    {
     "data": {
      "text/plain": [
       "<matplotlib.collections.PathCollection at 0x1c2ac3773a0>"
      ]
     },
     "execution_count": 1298,
     "metadata": {},
     "output_type": "execute_result"
    },
    {
     "data": {
      "image/png": "[encoded data removed]",
      "text/plain": [
       "<Figure size 432x288 with 1 Axes>"
      ]
     },
     "metadata": {},
     "output_type": "display_data"
    }
   ],
   "source": [
    "df_features_second = transform_features_power(df_feature_transit, 'Transit', 'Transit^2', 2)\n",
    "df_features_second = transform_features_power(df_feature_transit, 'Transit', 'Transit^3', 3)\n",
    "df_features_second = transform_features_power(df_feature_transit, 'Transit', 'Transit^4', 4)\n",
    "df_features_second = transform_features_power(df_feature_transit, 'Transit', 'Transit^5', 5)\n",
    "df_features_second = transform_features_power(df_feature_transit, 'Transit', 'Transit^6', 6)\n",
    "\n",
    "# print(df_features_second)\n",
    "\n",
    "df_features_train, df_features_test, df_target_train, df_target_test = split_data(df_features_second, df_target)\n",
    "\n",
    "# normalize features\n",
    "df_features_train_z = normalize_z(df_features_train)\n",
    "\n",
    "# change to numpy array and append column for feature\n",
    "X = prepare_feature(df_features_train_z)\n",
    "target = prepare_target(df_target_train)\n",
    "\n",
    "iterations = 1500\n",
    "alpha = 0.01\n",
    "beta = np.zeros((7,1))\n",
    "\n",
    "# call gradient_descent() function\n",
    "beta, J_storage = gradient_descent(X, target, beta, alpha, iterations)\n",
    "\n",
    "# print(beta)\n",
    "pred = predict(df_features_test, beta)\n",
    "\n",
    "sns.set()\n",
    "\n",
    "plt.scatter(df_features_test[\"Transit\"], df_target_test)\n",
    "plt.scatter(df_features_test[\"Transit\"], pred)\n"
   ]
  },
  {
   "cell_type": "code",
   "execution_count": 1299,
   "metadata": {},
   "outputs": [
    {
     "name": "stdout",
     "output_type": "stream",
     "text": [
      "0.3901579939579338 Adjusted\n",
      "53682.930670179296 mean squared error\n"
     ]
    }
   ],
   "source": [
    "# TESTS\n",
    "target = prepare_target(df_target_test)\n",
    "\n",
    "a_r2 = adjusted_r2_score(target, pred, 6)\n",
    "print(a_r2, \"Adjusted\")\n",
    "\n",
    "mse = mean_squared_error(target, pred)\n",
    "print(mse, \"mean squared error\")"
   ]
  },
  {
   "cell_type": "markdown",
   "metadata": {},
   "source": [
    "## Multiple Linear Regression\n",
    "<a id=\"multi\"></a>"
   ]
  },
  {
   "cell_type": "code",
   "execution_count": 1300,
   "metadata": {},
   "outputs": [
    {
     "data": {
      "text/plain": [
       "<matplotlib.collections.PathCollection at 0x1c2ac3d5760>"
      ]
     },
     "execution_count": 1300,
     "metadata": {},
     "output_type": "execute_result"
    },
    {
     "data": {
      "image/png": "[encoded data removed]",
      "text/plain": [
       "<Figure size 432x288 with 1 Axes>"
      ]
     },
     "metadata": {},
     "output_type": "display_data"
    }
   ],
   "source": [
    "df_features, df_target = get_features_targets(df,[\"Transit\", \"Delta\"],[\"ICU admissions\"])\n",
    "\n",
    "df_features = normalize_z(df_features)\n",
    "\n",
    "plt.scatter(df_features[\"Transit\"], df_target)\n",
    "plt.scatter(df_features[\"Delta\"], df_target)\n"
   ]
  },
  {
   "cell_type": "code",
   "execution_count": 1301,
   "metadata": {},
   "outputs": [
    {
     "name": "stdout",
     "output_type": "stream",
     "text": [
      "[[608.34541567]\n",
      " [ 56.34393   ]\n",
      " [265.95810925]]\n"
     ]
    },
    {
     "data": {
      "text/plain": [
       "<matplotlib.collections.PathCollection at 0x1c2ac4319a0>"
      ]
     },
     "execution_count": 1301,
     "metadata": {},
     "output_type": "execute_result"
    },
    {
     "data": {
      "image/png": "[encoded data removed]",
      "text/plain": [
       "<Figure size 432x288 with 1 Axes>"
      ]
     },
     "metadata": {},
     "output_type": "display_data"
    }
   ],
   "source": [
    "df_features_third = df_features\n",
    "\n",
    "df_features_train, df_features_test, df_target_train, df_target_test = split_data(df_features_third, df_target)\n",
    "\n",
    "# normalize features\n",
    "df_features_train_z = normalize_z(df_features_train)\n",
    "\n",
    "# change to numpy array and append column for feature\n",
    "X = prepare_feature(df_features_train_z)\n",
    "target = prepare_target(df_target_train)\n",
    "\n",
    "iterations = 1500\n",
    "alpha = 0.01\n",
    "beta = np.zeros((3,1))\n",
    "\n",
    "# call gradient_descent() function\n",
    "beta, J_storage = gradient_descent(X, target, beta, alpha, iterations)\n",
    "\n",
    "print(beta)\n",
    "pred = predict(df_features_test, beta)\n",
    "# print(pred)\n",
    "\n",
    "plt.scatter(df_features_test[\"Delta\"], df_target_test)\n",
    "plt.scatter(df_features_test[\"Delta\"], pred)"
   ]
  },
  {
   "cell_type": "code",
   "execution_count": 1302,
   "metadata": {},
   "outputs": [
    {
     "data": {
      "text/plain": [
       "<matplotlib.collections.PathCollection at 0x1c2ac456dc0>"
      ]
     },
     "execution_count": 1302,
     "metadata": {},
     "output_type": "execute_result"
    },
    {
     "data": {
      "image/png": "[encoded data removed]",
      "text/plain": [
       "<Figure size 432x288 with 1 Axes>"
      ]
     },
     "metadata": {},
     "output_type": "display_data"
    }
   ],
   "source": [
    "plt.scatter(df_features_test[\"Transit\"], df_target_test)\n",
    "plt.scatter(df_features_test[\"Transit\"], pred)"
   ]
  },
  {
   "cell_type": "code",
   "execution_count": 1303,
   "metadata": {},
   "outputs": [
    {
     "name": "stdout",
     "output_type": "stream",
     "text": [
      "0.5105235867523741 Adjusted\n",
      "46534.43079430581 mean squared error\n"
     ]
    }
   ],
   "source": [
    "# TESTS\n",
    "target = prepare_target(df_target_test)\n",
    "\n",
    "a_r2 = adjusted_r2_score(target, pred, 2)\n",
    "print(a_r2, \"Adjusted\")\n",
    "\n",
    "mse = mean_squared_error(target, pred)\n",
    "print(mse, \"mean squared error\")"
   ]
  },
  {
   "cell_type": "markdown",
   "metadata": {},
   "source": [
    "## Model Evaluation\n",
    "\n",
    "Steps taken to improve accuracy of model\n",
    "1. Logging features\n",
    "2. Adjusting the power of polynomial linear regression model\n",
    "3. Research for other possible features\n",
    "\n"
   ]
  }
 ],
 "metadata": {
  "interpreter": {
   "hash": "c14704ef0e2ab61577232fb2d37ce3be65ec15f73d010eee02ce9b4a6249fe6e"
  },
  "kernelspec": {
   "display_name": "Python 3.9.7 64-bit",
   "language": "python",
   "name": "python3"
  },
  "language_info": {
   "codemirror_mode": {
    "name": "ipython",
    "version": 3
   },
   "file_extension": ".py",
   "mimetype": "text/x-python",
   "name": "python",
   "nbconvert_exporter": "python",
   "pygments_lexer": "ipython3",
   "version": "3.9.7"
  },
  "orig_nbformat": 4
 },
 "nbformat": 4,
 "nbformat_minor": 2
}
