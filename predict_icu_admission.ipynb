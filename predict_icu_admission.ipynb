{
 "cells": [
  {
   "cell_type": "markdown",
   "metadata": {},
   "source": [
    "# DDW TASK 2"
   ]
  },
  {
   "cell_type": "markdown",
   "metadata": {},
   "source": [
    "## Contribution\n",
    "- Jia Hui - Brainstormed on features, researching, model experimenting\n",
    "- Pei Xuan - Brainstormed on features, researching, data cleaning\n",
    "- Min Khant - Brainstormed on features, researching"
   ]
  },
  {
   "cell_type": "markdown",
   "metadata": {},
   "source": [
    "## Link to Data Sources\n",
    "### \n",
    "*Number of ICU Admission for United kingdom*\n",
    "- [ICU Admissions](https://coronavirus.data.gov.uk/details/healthcare)\n",
    "\n",
    "*Number of Covid Cases for United kingdom*\n",
    "- [Covid Cases 'owid-covid-data.csv'](https://github.com/owid/covid-19-data/tree/master/public/data)"
   ]
  },
  {
   "cell_type": "markdown",
   "metadata": {},
   "source": [
    "## Cleaning of Data\n",
    "*Took data from 30/4/2021 to 8/11/2021*"
   ]
  },
  {
   "cell_type": "markdown",
   "metadata": {},
   "source": [
    "## All possible models\n",
    "1. **[Linear Regression](#linear)**\n",
    "2. **[Polynomial Regression](#poly)**\n",
    "1. **[Mutiple Regression](#multi)**"
   ]
  },
  {
   "cell_type": "markdown",
   "metadata": {},
   "source": [
    "## Required Imports"
   ]
  },
  {
   "cell_type": "code",
   "execution_count": 1,
   "metadata": {},
   "outputs": [],
   "source": [
    "import numpy as np\n",
    "import pandas as pd\n",
    "import matplotlib.pyplot as plt\n",
    "import seaborn as sns\n",
    "import math"
   ]
  },
  {
   "cell_type": "markdown",
   "metadata": {},
   "source": [
    "## Functions"
   ]
  },
  {
   "cell_type": "code",
   "execution_count": 2,
   "metadata": {},
   "outputs": [],
   "source": [
    "def normalize_z(df):\n",
    "    # mean with axis 0 is summing the rows\n",
    "    return (df - df.mean(axis=0)) / df.std(axis=0) \n",
    "\n",
    "def get_features_targets(df, feature_names, target_names):\n",
    "    ### BEGIN SOLUTION\n",
    "    df_feature = df[feature_names]\n",
    "    df_target = df[target_names]\n",
    "    ### END SOLUTION\n",
    "    return df_feature, df_target\n",
    "\n",
    "def prepare_feature(df_feature):\n",
    "    cols = len(df_feature.columns) \n",
    "    feature = df_feature.to_numpy()\n",
    "    number_of_samples = feature.shape[0]\n",
    "    return np.concatenate((np.ones((number_of_samples,1)), feature), axis=1)\n",
    "\n",
    "def prepare_target(df_target):\n",
    "    # to_numpy() removes the first column (header column)\n",
    "    return df_target.to_numpy()\n",
    "\n",
    "def predict(df_feature, beta):\n",
    "    X = prepare_feature(normalize_z(df_feature))\n",
    "    return predict_norm(X, beta)\n",
    "\n",
    "def predict_norm(X, beta):\n",
    "    return np.matmul(X,beta)\n",
    "\n",
    "def split_data(df_feature, df_target, random_state=100, test_size=0.3):\n",
    "    ### BEGIN SOLUTION\n",
    "    # get the indexes of the feature \n",
    "    indexes = df_feature.index\n",
    "    # seed the random value \n",
    "    if random_state != None:\n",
    "        np.random.seed(random_state)\n",
    "    # get the number of test samples to extract \n",
    "    k = int(test_size * len(indexes))\n",
    "    # get the indexes from the features and target to select as test set \n",
    "    test_index = np.random.choice(indexes, k, replace=False)\n",
    "    indexes = set(indexes)\n",
    "    test_index = set(test_index)\n",
    "    train_index = indexes - test_index\n",
    "    df_feature_train = df_feature.loc[train_index, :]\n",
    "    df_feature_test = df_feature.loc[test_index, :]\n",
    "    df_target_train = df_target.loc[train_index, :]\n",
    "    df_target_test = df_target.loc[test_index, :]\n",
    "    ### END SOLUTION\n",
    "    return df_feature_train, df_feature_test, df_target_train, df_target_test\n",
    "  \n",
    "  \n",
    "def r2_score(y, ypred):\n",
    "    sum_res = np.sum((y - ypred)**2)\n",
    "    error_tot = y - np.mean(y)\n",
    "    sum_tot = np.sum(error_tot**2)\n",
    "    return 1-(sum_res/sum_tot)\n",
    "\n",
    "def mean_squared_error(target, pred):\n",
    "    n = target.shape[0]\n",
    "    return 1/n * np.sum((target-pred)**2)\n",
    "\n",
    "def compute_cost(X, y, beta):\n",
    "    J = 0\n",
    "    \n",
    "    no_of_samples = X.shape[0]\n",
    "    error = np.matmul(X, beta) - y\n",
    "    error_sq = np.matmul(error.T, error) # .T is transpose\n",
    "    # print(error)\n",
    "    J = 1/(2*no_of_samples) * error_sq\n",
    "    return J[0][0]\n",
    "\n",
    "def gradient_descent(X, y, beta, alpha, num_iters):\n",
    "    ###\n",
    "    number_of_samples = X.shape[0]\n",
    "    J_storage = []\n",
    "    for i in range(num_iters):\n",
    "        # STEP 2: compute the derivate with current parameters\n",
    "        derivative_error = (1/(number_of_samples)) * np.matmul(X.T, (np.matmul(X, beta) - y))\n",
    "        # STEP 3: update the parameters\n",
    "        beta = beta - alpha *  derivative_error\n",
    "        # compute cost at every iteration of beta\n",
    "        J_storage.append(compute_cost(X, y, beta))\n",
    "    ### END SOLUTION\n",
    "    return beta, J_storage\n",
    "\n",
    "def transform_features_power(df_feature, colname, colname_transformed, value):\n",
    "    df_feature[colname_transformed] = df_feature[colname]**value\n",
    "    return df_feature\n",
    "\n",
    "def add_feature(df_feature, colname_transformed, value):\n",
    "    df_feature[colname_transformed] = value\n",
    "    return df_feature"
   ]
  },
  {
   "cell_type": "markdown",
   "metadata": {},
   "source": [
    "## Reading data from CSV"
   ]
  },
  {
   "cell_type": "code",
   "execution_count": 3,
   "metadata": {},
   "outputs": [
    {
     "data": {
      "text/plain": [
       "<matplotlib.collections.PathCollection at 0x213c1d246d0>"
      ]
     },
     "execution_count": 3,
     "metadata": {},
     "output_type": "execute_result"
    },
    {
     "data": {
      "image/png": "[encoded data removed]",
      "text/plain": [
       "<Figure size 432x288 with 1 Axes>"
      ]
     },
     "metadata": {
      "needs_background": "light"
     },
     "output_type": "display_data"
    }
   ],
   "source": [
    "df = pd.read_csv(\"DDW_dataset1.csv\")\n",
    "df_feature, df_target = get_features_targets(df,[\"CovidCases\"],[\"ICU admissions\"])\n",
    "\n",
    "plt.scatter(df_feature, df_target)"
   ]
  },
  {
   "cell_type": "markdown",
   "metadata": {},
   "source": [
    "**Why number of ICU Admissions were used**"
   ]
  },
  {
   "cell_type": "markdown",
   "metadata": {},
   "source": [
    "## Linear Regression\n",
    "<a id=\"linear\"></a>"
   ]
  },
  {
   "cell_type": "code",
   "execution_count": 4,
   "metadata": {},
   "outputs": [
    {
     "name": "stdout",
     "output_type": "stream",
     "text": [
      "[[608.34541567]\n",
      " [322.37436239]]\n"
     ]
    },
    {
     "data": {
      "text/plain": [
       "<matplotlib.collections.PathCollection at 0x213c1d52df0>"
      ]
     },
     "execution_count": 4,
     "metadata": {},
     "output_type": "execute_result"
    },
    {
     "data": {
      "image/png": "[encoded data removed]",
      "text/plain": [
       "<Figure size 432x288 with 1 Axes>"
      ]
     },
     "metadata": {},
     "output_type": "display_data"
    }
   ],
   "source": [
    "# split data using random_state = 100 and 30% test size\n",
    "df_features_train, df_features_test, df_target_train, df_target_test = split_data(df_feature, df_target)\n",
    "\n",
    "# normalize features\n",
    "df_features_train_z = normalize_z(df_features_train)\n",
    "\n",
    "# change to numpy array and append column for feature\n",
    "X = prepare_feature(df_features_train_z)\n",
    "target = prepare_target(df_target_train)\n",
    "\n",
    "iterations = 1500\n",
    "alpha = 0.01\n",
    "beta = np.zeros((2,1))\n",
    "\n",
    "# call gradient_descent() function\n",
    "beta, J_storage = gradient_descent(X, target, beta, alpha, iterations)\n",
    "\n",
    "print(beta)\n",
    "pred = predict(df_features_test, beta)\n",
    "# print(pred)\n",
    "\n",
    "sns.set()\n",
    "plt.scatter(df_features_test[\"CovidCases\"], df_target_test)\n",
    "plt.scatter(df_features_test[\"CovidCases\"], pred)"
   ]
  },
  {
   "cell_type": "code",
   "execution_count": 5,
   "metadata": {},
   "outputs": [
    {
     "name": "stdout",
     "output_type": "stream",
     "text": [
      "0.7823425561895305 r2\n",
      "21459.046887849643 mean squared error\n"
     ]
    }
   ],
   "source": [
    "# TESTS\n",
    "target = prepare_target(df_target_test)\n",
    "r2 = r2_score(target, pred)\n",
    "print(r2, \"r2\")\n",
    "\n",
    "mse = mean_squared_error(target, pred)\n",
    "print(mse, \"mean squared error\")\n"
   ]
  },
  {
   "cell_type": "markdown",
   "metadata": {},
   "source": [
    "## Polynomial Linear Regression\n",
    "<a id=\"poly\"></a>"
   ]
  },
  {
   "cell_type": "code",
   "execution_count": 6,
   "metadata": {},
   "outputs": [
    {
     "name": "stdout",
     "output_type": "stream",
     "text": [
      "     CovidCases  CovidCases^2  CovidCases^3  CovidCases^4  CovidCases^5  \\\n",
      "0          2397  1.211721e+06  1.788076e+06  2.638574e+06  3.893612e+06   \n",
      "1          1911  8.058779e+05  1.175797e+06  1.715518e+06  2.502986e+06   \n",
      "2          1674  6.349797e+05  9.203385e+05  1.333937e+06  1.933406e+06   \n",
      "3          1674  6.349797e+05  9.203385e+05  1.333937e+06  1.933406e+06   \n",
      "4          1984  8.621345e+05  1.260237e+06  1.842168e+06  2.692813e+06   \n",
      "..          ...           ...           ...           ...           ...   \n",
      "188       36963  1.667174e+08  2.820781e+08  4.772629e+08  8.075066e+08   \n",
      "189       33972  1.432247e+08  2.413093e+08  4.065651e+08  6.849931e+08   \n",
      "190       30454  1.176413e+08  1.971251e+08  3.303119e+08  5.534858e+08   \n",
      "191       29889  1.137419e+08  1.904128e+08  3.187657e+08  5.336386e+08   \n",
      "192       32325  1.309693e+08  2.201133e+08  3.699331e+08  6.217276e+08   \n",
      "\n",
      "     CovidCases^6  CovidCases^9  \n",
      "0         5745609  1.968281e+09  \n",
      "1         3651921  1.055521e+09  \n",
      "2         2802276  7.333774e+08  \n",
      "3         2802276  7.333774e+08  \n",
      "4         3936256  1.170145e+09  \n",
      "..            ...           ...  \n",
      "188    1366263369  3.642167e+12  \n",
      "189    1154096784  2.887906e+12  \n",
      "190     927446116  2.138070e+12  \n",
      "191     893352321  2.030749e+12  \n",
      "192    1044905625  2.519016e+12  \n",
      "\n",
      "[193 rows x 7 columns]\n"
     ]
    },
    {
     "name": "stderr",
     "output_type": "stream",
     "text": [
      "C:\\Users\\jiahu\\AppData\\Local\\Temp/ipykernel_2656/3108061555.py:86: SettingWithCopyWarning: \n",
      "A value is trying to be set on a copy of a slice from a DataFrame.\n",
      "Try using .loc[row_indexer,col_indexer] = value instead\n",
      "\n",
      "See the caveats in the documentation: https://pandas.pydata.org/pandas-docs/stable/user_guide/indexing.html#returning-a-view-versus-a-copy\n",
      "  df_feature[colname_transformed] = df_feature[colname]**value\n"
     ]
    },
    {
     "data": {
      "text/plain": [
       "<matplotlib.collections.PathCollection at 0x213c1ebcca0>"
      ]
     },
     "execution_count": 6,
     "metadata": {},
     "output_type": "execute_result"
    },
    {
     "data": {
      "image/png": "[encoded data removed]",
      "text/plain": [
       "<Figure size 432x288 with 1 Axes>"
      ]
     },
     "metadata": {},
     "output_type": "display_data"
    }
   ],
   "source": [
    "\n",
    "df_features_second = transform_features_power(df_feature, 'CovidCases', 'CovidCases^2', 1.8)\n",
    "df_features_second = transform_features_power(df_feature, 'CovidCases', 'CovidCases^3', 1.85)\n",
    "df_features_second = transform_features_power(df_feature, 'CovidCases', 'CovidCases^4', 1.9)\n",
    "df_features_second = transform_features_power(df_feature, 'CovidCases', 'CovidCases^5', 1.95)\n",
    "df_features_second = transform_features_power(df_feature, 'CovidCases', 'CovidCases^6', 2)\n",
    "# df_features_second = transform_features_power(df_feature, 'CovidCases', 'CovidCases^7', 2.05)\n",
    "# df_features_second = transform_features_power(df_feature, 'CovidCases', 'CovidCases^8', 2.5)\n",
    "df_features_second = transform_features_power(df_feature, 'CovidCases', 'CovidCases^9', 2.75)\n",
    "print(df_features_second)\n",
    "\n",
    "\n",
    "df_features_train, df_features_test, df_target_train, df_target_test = split_data(df_features_second, df_target)\n",
    "\n",
    "# normalize features\n",
    "df_features_train_z = normalize_z(df_features_train)\n",
    "\n",
    "# change to numpy array and append column for feature\n",
    "X = prepare_feature(df_features_train_z)\n",
    "target = prepare_target(df_target_train)\n",
    "\n",
    "iterations = 1500\n",
    "alpha = 0.01\n",
    "beta = np.zeros((8,1))\n",
    "\n",
    "# call gradient_descent() function\n",
    "beta, J_storage = gradient_descent(X, target, beta, alpha, iterations)\n",
    "\n",
    "# print(beta)\n",
    "pred = predict(df_features_test, beta)\n",
    "# print(pred)\n",
    "\n",
    "sns.set()\n",
    "plt.scatter(df_features_test[\"CovidCases\"], df_target_test)\n",
    "plt.scatter(df_features_test[\"CovidCases\"], pred)\n"
   ]
  },
  {
   "cell_type": "code",
   "execution_count": 7,
   "metadata": {},
   "outputs": [
    {
     "data": {
      "text/plain": [
       "<matplotlib.collections.PathCollection at 0x213c1f1df10>"
      ]
     },
     "execution_count": 7,
     "metadata": {},
     "output_type": "execute_result"
    },
    {
     "data": {
      "image/png": "[encoded data removed]",
      "text/plain": [
       "<Figure size 432x288 with 1 Axes>"
      ]
     },
     "metadata": {},
     "output_type": "display_data"
    }
   ],
   "source": [
    "plt.scatter(df_features_test[\"CovidCases^2\"], df_target_test)\n",
    "plt.scatter(df_features_test[\"CovidCases^2\"], pred)"
   ]
  },
  {
   "cell_type": "code",
   "execution_count": 8,
   "metadata": {},
   "outputs": [
    {
     "data": {
      "text/plain": [
       "<matplotlib.collections.PathCollection at 0x213c1f84f40>"
      ]
     },
     "execution_count": 8,
     "metadata": {},
     "output_type": "execute_result"
    },
    {
     "data": {
      "image/png": "[encoded data removed]",
      "text/plain": [
       "<Figure size 432x288 with 1 Axes>"
      ]
     },
     "metadata": {},
     "output_type": "display_data"
    }
   ],
   "source": [
    "plt.scatter(df_features_test[\"CovidCases^3\"], df_target_test)\n",
    "plt.scatter(df_features_test[\"CovidCases^3\"], pred)"
   ]
  },
  {
   "cell_type": "code",
   "execution_count": 9,
   "metadata": {},
   "outputs": [
    {
     "name": "stdout",
     "output_type": "stream",
     "text": [
      "19553.910372020826 mean squared error\n"
     ]
    }
   ],
   "source": [
    "# TESTS\n",
    "target = prepare_target(df_target_test)\n",
    "\n",
    "mse = mean_squared_error(target, pred)\n",
    "print(mse, \"mean squared error\")\n",
    "\n",
    "\n",
    "# 19641,  2 & 2.7\n",
    "# 19638, 2 & 2.75\n",
    "# 19631, 1.9 & 2.75\n",
    "# 19629, 1.85 & 2.75\n",
    "# 19591, 1.85, 1.9, 2.75\n",
    "# 19570 1.8, 1.85, 1.9, 2.75\n",
    "# 19553 1.8, 1.85, 1.9, 1.95, 2, 2.75"
   ]
  },
  {
   "cell_type": "markdown",
   "metadata": {},
   "source": [
    "## Multiple Linear Regression\n",
    "<a id=\"multi\"></a>"
   ]
  },
  {
   "cell_type": "code",
   "execution_count": 10,
   "metadata": {},
   "outputs": [
    {
     "data": {
      "text/plain": [
       "<matplotlib.collections.PathCollection at 0x213c1ff61f0>"
      ]
     },
     "execution_count": 10,
     "metadata": {},
     "output_type": "execute_result"
    },
    {
     "data": {
      "image/png": "[encoded data removed]",
      "text/plain": [
       "<Figure size 432x288 with 1 Axes>"
      ]
     },
     "metadata": {},
     "output_type": "display_data"
    }
   ],
   "source": [
    "df_features, df_target = get_features_targets(df,[\"CovidCases\", \"Delta\"],[\"ICU admissions\"])\n",
    "\n",
    "# df_features = transform_features_power(df_features, 'CovidCases', 'CovidCases^2', 2)\n",
    "# df_features = transform_features_power(df_features, 'Delta', 'Delta^2', 2)\n",
    "# print(df_features)\n",
    "df_features = normalize_z(df_features)\n",
    "# print(df_features)\n",
    "\n",
    "plt.scatter(df_features[\"CovidCases\"], df_target)\n",
    "# plt.scatter(df_features[\"CovidCases^2\"], df_target)\n"
   ]
  },
  {
   "cell_type": "code",
   "execution_count": 11,
   "metadata": {},
   "outputs": [
    {
     "data": {
      "text/plain": [
       "<matplotlib.collections.PathCollection at 0x213c203f160>"
      ]
     },
     "execution_count": 11,
     "metadata": {},
     "output_type": "execute_result"
    },
    {
     "data": {
      "image/png": "[encoded data removed]",
      "text/plain": [
       "<Figure size 432x288 with 1 Axes>"
      ]
     },
     "metadata": {},
     "output_type": "display_data"
    }
   ],
   "source": [
    "plt.scatter(df_features[\"Delta\"], df_target)\n",
    "# plt.scatter(df_features[\"Delta^2\"], df_target)"
   ]
  },
  {
   "cell_type": "code",
   "execution_count": 12,
   "metadata": {},
   "outputs": [
    {
     "name": "stdout",
     "output_type": "stream",
     "text": [
      "[[608.34541567]\n",
      " [183.91745203]\n",
      " [162.57032638]]\n"
     ]
    },
    {
     "data": {
      "text/plain": [
       "<matplotlib.collections.PathCollection at 0x213c20c2730>"
      ]
     },
     "execution_count": 12,
     "metadata": {},
     "output_type": "execute_result"
    },
    {
     "data": {
      "image/png": "[encoded data removed]",
      "text/plain": [
       "<Figure size 432x288 with 1 Axes>"
      ]
     },
     "metadata": {},
     "output_type": "display_data"
    }
   ],
   "source": [
    "df_features_third = df_features\n",
    "\n",
    "df_features_train, df_features_test, df_target_train, df_target_test = split_data(df_features_third, df_target)\n",
    "\n",
    "# normalize features\n",
    "df_features_train_z = normalize_z(df_features_train)\n",
    "\n",
    "# change to numpy array and append column for feature\n",
    "X = prepare_feature(df_features_train_z)\n",
    "target = prepare_target(df_target_train)\n",
    "\n",
    "iterations = 1500\n",
    "alpha = 0.01\n",
    "beta = np.zeros((3,1))\n",
    "# beta = np.zeros((5,1))\n",
    "\n",
    "# call gradient_descent() function\n",
    "beta, J_storage = gradient_descent(X, target, beta, alpha, iterations)\n",
    "\n",
    "print(beta)\n",
    "pred = predict(df_features_test, beta)\n",
    "# print(pred)\n",
    "\n",
    "plt.scatter(df_features_test[\"CovidCases\"], df_target_test)\n",
    "plt.scatter(df_features_test[\"CovidCases\"], pred)"
   ]
  },
  {
   "cell_type": "code",
   "execution_count": 13,
   "metadata": {},
   "outputs": [
    {
     "data": {
      "text/plain": [
       "<matplotlib.collections.PathCollection at 0x213c2127b20>"
      ]
     },
     "execution_count": 13,
     "metadata": {},
     "output_type": "execute_result"
    },
    {
     "data": {
      "image/png": "[encoded data removed]",
      "text/plain": [
       "<Figure size 432x288 with 1 Axes>"
      ]
     },
     "metadata": {},
     "output_type": "display_data"
    }
   ],
   "source": [
    "plt.scatter(df_features_test[\"Delta\"], df_target_test)\n",
    "plt.scatter(df_features_test[\"Delta\"], pred)"
   ]
  },
  {
   "cell_type": "code",
   "execution_count": 14,
   "metadata": {},
   "outputs": [
    {
     "name": "stdout",
     "output_type": "stream",
     "text": [
      "22751.944377117696 mean squared error\n"
     ]
    }
   ],
   "source": [
    "# TESTS\n",
    "target = prepare_target(df_target_test)\n",
    "\n",
    "mse = mean_squared_error(target, pred)\n",
    "print(mse, \"mean squared error\")"
   ]
  },
  {
   "cell_type": "markdown",
   "metadata": {},
   "source": [
    "## Model Evaluation\n",
    "\n",
    "Steps taken to improve accuracy of model\n",
    "1. Logging features\n",
    "2. Adjusting the power of polynomial linear regression model\n",
    "3. Research for other possible features\n",
    "\n",
    "\n",
    "*After trying out several models, we conclude that polynomial linear regression suit our data the best with mean squared error of 19553.9*"
   ]
  }
 ],
 "metadata": {
  "interpreter": {
   "hash": "c14704ef0e2ab61577232fb2d37ce3be65ec15f73d010eee02ce9b4a6249fe6e"
  },
  "kernelspec": {
   "display_name": "Python 3.9.7 64-bit",
   "language": "python",
   "name": "python3"
  },
  "language_info": {
   "codemirror_mode": {
    "name": "ipython",
    "version": 3
   },
   "file_extension": ".py",
   "mimetype": "text/x-python",
   "name": "python",
   "nbconvert_exporter": "python",
   "pygments_lexer": "ipython3",
   "version": "3.9.7"
  },
  "orig_nbformat": 4
 },
 "nbformat": 4,
 "nbformat_minor": 2
}
